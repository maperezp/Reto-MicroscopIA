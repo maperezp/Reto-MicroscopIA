{
  "cells": [
    {
      "cell_type": "markdown",
      "metadata": {
        "id": "8o6osVFBLu8P"
      },
      "source": [
        "**Reto MicroscopIA**\n",
        "\n",
        "**Clasificación de Histopatología de Cáncer de Pulmón**\n",
        "\n",
        "**María Alejandra Pérez Petro**"
      ]
    },
    {
      "cell_type": "markdown",
      "metadata": {
        "id": "5KnQpgpopi8a"
      },
      "source": [
        "\n",
        "**Datos:** Los datos los puedes consultar [aquí](https://drive.google.com/file/d/1vHpktP4M3uQOoh_QlBAqcvC111o8e5ef/view)."
      ]
    },
    {
      "cell_type": "markdown",
      "metadata": {
        "id": "VjA8zwzJvmeO"
      },
      "source": [
        "# **Librerias**"
      ]
    },
    {
      "cell_type": "code",
      "execution_count": 1,
      "metadata": {},
      "outputs": [],
      "source": [
        "# Instalación de librerías\n",
        "#!pip install keras-tuner -q\n",
        "#!pip install scikit-learn -q\n",
        "#!pip install tensorflow -q"
      ]
    },
    {
      "cell_type": "code",
      "execution_count": 50,
      "metadata": {
        "id": "3dkr9U_GLuMj"
      },
      "outputs": [],
      "source": [
        "# IMPORTAR LIBRERÍAS\n",
        "\n",
        "# Numpy, Dataframes y visualización\n",
        "import numpy as np\n",
        "import pandas as pd\n",
        "import seaborn as sns\n",
        "import matplotlib.pyplot as plt\n",
        "import cv2\n",
        "\n",
        "\n",
        "# Sklearn\n",
        "from sklearn.metrics import classification_report, confusion_matrix\n",
        "from sklearn.model_selection import train_test_split\n",
        "from sklearn.preprocessing import LabelEncoder\n",
        "\n",
        "# Keras y sus módulos\n",
        "import tensorflow as tf\n",
        "from tensorflow import keras\n",
        "from keras.datasets import cifar10\n",
        "from keras.utils import to_categorical\n",
        "from keras.models import Sequential\n",
        "from keras.layers import Dense, Dropout, Flatten, Conv2D, MaxPooling2D, GlobalAveragePooling2D, AveragePooling2D\n",
        "from keras.callbacks import EarlyStopping, ReduceLROnPlateau, ModelCheckpoint\n",
        "from keras.applications import InceptionResNetV2 # red preentrenada\n",
        "\n",
        "\n",
        "# otros\n",
        "import json\n",
        "import os\n",
        "import shutil\n",
        "import yaml\n",
        "from pathlib import Path\n",
        "from glob import glob"
      ]
    },
    {
      "cell_type": "markdown",
      "metadata": {},
      "source": [
        "Definimos semilla para la reproducibilidad"
      ]
    },
    {
      "cell_type": "code",
      "execution_count": 23,
      "metadata": {},
      "outputs": [],
      "source": [
        "RANDOM_SEED = 42\n",
        "np.random.seed(RANDOM_SEED)\n",
        "tf.random.set_seed(RANDOM_SEED)"
      ]
    },
    {
      "cell_type": "markdown",
      "metadata": {},
      "source": [
        "# **1. Introducción a las imagenes**"
      ]
    },
    {
      "cell_type": "code",
      "execution_count": 59,
      "metadata": {},
      "outputs": [
        {
          "data": {
            "text/plain": [
              "WindowsPath('c:/Users/maril/Documents/OTROS/Reto-MicroscopIA/data')"
            ]
          },
          "execution_count": 59,
          "metadata": {},
          "output_type": "execute_result"
        }
      ],
      "source": [
        "ROOT_DIR = Path.cwd()  # Directorio raíz del proyecto\n",
        "DATA_DIR = ROOT_DIR.parent / 'data'  # Directorio de datos\n",
        "MODELS_DIR = ROOT_DIR.parent / 'models'  # Directorio de modelos\n",
        "DATA_DIR"
      ]
    },
    {
      "cell_type": "code",
      "execution_count": 27,
      "metadata": {},
      "outputs": [
        {
          "data": {
            "text/plain": [
              "['c:\\\\Users\\\\maril\\\\Documents\\\\OTROS\\\\Reto-MicroscopIA\\\\data\\\\fold1\\\\aca_bd\\\\aca_bd_20x_0.jpg',\n",
              " 'c:\\\\Users\\\\maril\\\\Documents\\\\OTROS\\\\Reto-MicroscopIA\\\\data\\\\fold1\\\\aca_bd\\\\aca_bd_20x_10.jpg',\n",
              " 'c:\\\\Users\\\\maril\\\\Documents\\\\OTROS\\\\Reto-MicroscopIA\\\\data\\\\fold1\\\\aca_bd\\\\aca_bd_20x_15.jpg',\n",
              " 'c:\\\\Users\\\\maril\\\\Documents\\\\OTROS\\\\Reto-MicroscopIA\\\\data\\\\fold1\\\\aca_bd\\\\aca_bd_20x_16.jpg',\n",
              " 'c:\\\\Users\\\\maril\\\\Documents\\\\OTROS\\\\Reto-MicroscopIA\\\\data\\\\fold1\\\\aca_bd\\\\aca_bd_20x_18.jpg']"
            ]
          },
          "execution_count": 27,
          "metadata": {},
          "output_type": "execute_result"
        }
      ],
      "source": [
        "# Obtener todas las imágenes .jpg dentro de 'data' y subcarpetas\n",
        "img_files = sorted(glob(str(DATA_DIR) + '/**/*.jpg', recursive=True))\n",
        "img_files[:5]  # Mostrar las primeras 5 rutas de archivos"
      ]
    },
    {
      "cell_type": "code",
      "execution_count": 33,
      "metadata": {},
      "outputs": [
        {
          "name": "stdout",
          "output_type": "stream",
          "text": [
            "Número de categorías: 7\n",
            "Categorías: ['aca_bd', 'aca_md', 'aca_pd', 'nor', 'scc_bd', 'scc_md', 'scc_pd']\n"
          ]
        }
      ],
      "source": [
        "# Obtener etiquetas de los nombres de las imagenes\n",
        "labels = [\"_\".join(os.path.basename(f).split('_')[:-2]) for f in img_files]\n",
        "CLASS_NAMES = sorted(list(set(labels)))  # Obtener categorías únicas y ordenarlas\n",
        "print(f\"Número de categorías: {len(CLASS_NAMES)}\")\n",
        "print(f\"Categorías: {CLASS_NAMES}\")"
      ]
    },
    {
      "cell_type": "code",
      "execution_count": 29,
      "metadata": {},
      "outputs": [
        {
          "data": {
            "text/plain": [
              "Text(0.5, 1.0, 'Distribución de clases')"
            ]
          },
          "execution_count": 29,
          "metadata": {},
          "output_type": "execute_result"
        },
        {
          "data": {
            "image/png": "[encoded data removed]",
            "text/plain": [
              "<Figure size 1200x600 with 1 Axes>"
            ]
          },
          "metadata": {},
          "output_type": "display_data"
        }
      ],
      "source": [
        "# ver distribución de clases, grafica de barras\n",
        "plt.figure(figsize=(12, 6))\n",
        "sns.countplot(y=labels, order=pd.Series(labels).value_counts().index)\n",
        "#Mostrar conteos en las barras\n",
        "for i in plt.gca().patches:\n",
        "    plt.gca().text(i.get_width()+0.3, i.get_y()+0.1, str(int(i.get_width())), fontsize=10, color='black')\n",
        "plt.title('Distribución de clases')"
      ]
    },
    {
      "cell_type": "code",
      "execution_count": 42,
      "metadata": {},
      "outputs": [
        {
          "name": "stdout",
          "output_type": "stream",
          "text": [
            "Total de imágenes cargadas: 691\n",
            "Dimensiones del array de imágenes: (691, 1200, 1600, 3)\n"
          ]
        }
      ],
      "source": [
        "# Leer y almacenar las imágenes\n",
        "img_data = []\n",
        "for img_file in img_files:\n",
        "    img = cv2.imread(img_file)\n",
        "    if img is not None:\n",
        "        img = np.array(cv2.cvtColor(img, cv2.COLOR_BGR2RGB))\n",
        "        img_data.append(img)\n",
        "    else:\n",
        "        print(f\"No se pudo leer la imagen: {img_file}\")\n",
        "\n",
        "print(f\"Total de imágenes cargadas: {len(img_data)}\")\n",
        "img_data = np.array(img_data)\n",
        "print(f\"Dimensiones del array de imágenes: {img_data.shape}\")"
      ]
    },
    {
      "cell_type": "markdown",
      "metadata": {
        "id": "kG8XHROzvuEH"
      },
      "source": [
        "# **2. Preparación**"
      ]
    },
    {
      "cell_type": "markdown",
      "metadata": {},
      "source": [
        "Separamos las imagenes en los conjuntos de entrenamiento (70%), test (15%)y validación (15%)"
      ]
    },
    {
      "cell_type": "code",
      "execution_count": 51,
      "metadata": {},
      "outputs": [
        {
          "name": "stdout",
          "output_type": "stream",
          "text": [
            "Tamaño del conjunto de entrenamiento: 483\n",
            "Tamaño del conjunto de validación: 104\n",
            "Tamaño del conjunto de prueba: 104\n"
          ]
        }
      ],
      "source": [
        "X_train, X_temp, y_train_, y_temp = train_test_split(img_data, labels, test_size=0.30, random_state=RANDOM_SEED)\n",
        "X_valid, X_test, y_valid_, y_test_ = train_test_split(X_temp, y_temp, test_size=0.50, random_state=RANDOM_SEED)\n",
        "print(f\"Tamaño del conjunto de entrenamiento: {len(X_train)}\")\n",
        "print(f\"Tamaño del conjunto de validación: {len(X_valid)}\")\n",
        "print(f\"Tamaño del conjunto de prueba: {len(X_test)}\")"
      ]
    },
    {
      "cell_type": "markdown",
      "metadata": {
        "id": "5zPXTmC26WL_"
      },
      "source": [
        "Ahora vamos a realizar One Hot a los lables"
      ]
    },
    {
      "cell_type": "code",
      "execution_count": 52,
      "metadata": {
        "id": "fQ47pXBYePYK"
      },
      "outputs": [],
      "source": [
        "# Crear el encoder\n",
        "encoder = LabelEncoder()\n",
        "\n",
        "# Ajustar con todas las etiquetas disponibles\n",
        "encoder.fit(labels)   # \"labels\" es tu vector original con todos los nombres de clases\n",
        "\n",
        "# Transformar\n",
        "y_train_enc = encoder.transform(y_train_)\n",
        "y_valid_enc = encoder.transform(y_valid_)\n",
        "y_test_enc  = encoder.transform(y_test_)\n",
        "\n",
        "# One-hot encoding\n",
        "y_train = to_categorical(y_train_enc)\n",
        "y_valid = to_categorical(y_valid_enc)\n",
        "y_test  = to_categorical(y_test_enc)\n"
      ]
    },
    {
      "cell_type": "markdown",
      "metadata": {},
      "source": [
        "Reescalamos las imagenes a `TARGET_SIZE = (224, 224)`"
      ]
    },
    {
      "cell_type": "code",
      "execution_count": 53,
      "metadata": {},
      "outputs": [],
      "source": [
        "TARGET_SIZE = (224, 224)\n",
        "BATCH_SIZE = 32\n",
        "\n",
        "# Reescalamos las imagenes antes de crear los generadores de imagenes\n",
        "X_train_resized = tf.image.resize(X_train, TARGET_SIZE)\n",
        "X_valid_resized = tf.image.resize(X_valid, TARGET_SIZE)\n",
        "X_test_resized = tf.image.resize(X_test, TARGET_SIZE)"
      ]
    },
    {
      "cell_type": "markdown",
      "metadata": {
        "id": "-2oHNP5Y65FU"
      },
      "source": [
        "Se utilizan los generadores de datos de Keras para cargar las imágenes en tiempo real.\n",
        "\n",
        "- Para el conjunto de entrenamiento se aplica data augmentation (rotación, volteo) para mejorar la robustez del modelo.\n",
        "- Para validación y test, solo se reescala la imagen."
      ]
    },
    {
      "cell_type": "code",
      "execution_count": 54,
      "metadata": {
        "colab": {
          "base_uri": "https://localhost:8080/"
        },
        "id": "jHAA4Pelvukc",
        "outputId": "7968cfbf-ef29-41c9-c584-4cfec968c143"
      },
      "outputs": [
        {
          "name": "stdout",
          "output_type": "stream",
          "text": [
            "Number of batches in training generator: 16\n",
            "Number of batches in validation generator: 4\n",
            "Number of batches in test generator: 4\n"
          ]
        }
      ],
      "source": [
        "# Generador para entrenamiento con data augmentation\n",
        "train_datagen = keras.preprocessing.image.ImageDataGenerator(\n",
        "    rescale=1./255,\n",
        "    rotation_range=20,\n",
        "    horizontal_flip=True,\n",
        "    brightness_range=[0.9,1.1]\n",
        ")\n",
        "\n",
        "# Generador para validación y test (solo reescala)\n",
        "test_val_datagen = keras.preprocessing.image.ImageDataGenerator(rescale=1./255)\n",
        "\n",
        "# Creación de generadores \n",
        "train_gen = train_datagen.flow(\n",
        "    x=X_train_resized,\n",
        "    y=y_train,\n",
        "    batch_size=BATCH_SIZE\n",
        ")\n",
        "\n",
        "val_gen = test_val_datagen.flow(\n",
        "    x=X_valid_resized,\n",
        "    y=y_valid,\n",
        "    batch_size=BATCH_SIZE,\n",
        "    shuffle=False\n",
        ")\n",
        "\n",
        "test_gen = test_val_datagen.flow(\n",
        "    x=X_test_resized,\n",
        "    y=y_test,\n",
        "    batch_size=BATCH_SIZE,\n",
        "    shuffle=False\n",
        ")\n",
        "\n",
        "print(f\"Number of batches in training generator: {len(train_gen)}\")\n",
        "print(f\"Number of batches in validation generator: {len(val_gen)}\")\n",
        "print(f\"Number of batches in test generator: {len(test_gen)}\")"
      ]
    },
    {
      "cell_type": "markdown",
      "metadata": {
        "id": "ExUWSrFJZnLB"
      },
      "source": [
        "# **3. Modelamiento**"
      ]
    },
    {
      "cell_type": "markdown",
      "metadata": {
        "id": "qcDaRPxaRguF"
      },
      "source": [
        "Recordemos las definiciones de nuestras capas:\n",
        "\n",
        "- **Conv2D:** Aplica filtros aprendibles para extraer características de la imagen.\n",
        "- **Pooling (MaxPooling2D):** Reduce la dimensión espacial, ayudando a la invariancia a traslaciones y reduciendo el cómputo. Existen otros tipos de pooling que también pueden implementar en la arquitectura como AveragePooling2D, GlobalMaxPooling2D y GlobalAveragePooling2D.\n",
        "- **Flatten:** Convierte la salida multidimensional en un vector unidimensional.\n",
        "- **Dense:** Capas completamente conectadas para la clasificación.\n",
        "- **Dropout:** Regularización para prevenir el sobreajuste.\n",
        "\n",
        "**Ahora usemos una red preentrenada como base y agregamos nuestro modelo secuencial**"
      ]
    },
    {
      "cell_type": "code",
      "execution_count": 55,
      "metadata": {
        "colab": {
          "base_uri": "https://localhost:8080/",
          "height": 424
        },
        "id": "vQkA32zjiFkz",
        "outputId": "29e8b48b-85c6-43ed-f7b6-321d5211fd5a"
      },
      "outputs": [
        {
          "name": "stdout",
          "output_type": "stream",
          "text": [
            "WARNING:tensorflow:From c:\\Users\\maril\\AppData\\Local\\Programs\\Python\\Python313\\Lib\\site-packages\\keras\\src\\backend\\tensorflow\\core.py:232: The name tf.placeholder is deprecated. Please use tf.compat.v1.placeholder instead.\n",
            "\n",
            "Downloading data from https://storage.googleapis.com/tensorflow/keras-applications/inception_resnet_v2/inception_resnet_v2_weights_tf_dim_ordering_tf_kernels_notop.h5\n",
            "\u001b[1m219055592/219055592\u001b[0m \u001b[32m━━━━━━━━━━━━━━━━━━━━\u001b[0m\u001b[37m\u001b[0m \u001b[1m18s\u001b[0m 0us/step\n"
          ]
        },
        {
          "data": {
            "text/html": [
              "<pre style=\"white-space:pre;overflow-x:auto;line-height:normal;font-family:Menlo,'DejaVu Sans Mono',consolas,'Courier New',monospace\"><span style=\"font-weight: bold\">Model: \"sequential\"</span>\n",
              "</pre>\n"
            ],
            "text/plain": [
              "\u001b[1mModel: \"sequential\"\u001b[0m\n"
            ]
          },
          "metadata": {},
          "output_type": "display_data"
        },
        {
          "data": {
            "text/html": [
              "<pre style=\"white-space:pre;overflow-x:auto;line-height:normal;font-family:Menlo,'DejaVu Sans Mono',consolas,'Courier New',monospace\">┏━━━━━━━━━━━━━━━━━━━━━━━━━━━━━━━━━┳━━━━━━━━━━━━━━━━━━━━━━━━┳━━━━━━━━━━━━━━━┓\n",
              "┃<span style=\"font-weight: bold\"> Layer (type)                    </span>┃<span style=\"font-weight: bold\"> Output Shape           </span>┃<span style=\"font-weight: bold\">       Param # </span>┃\n",
              "┡━━━━━━━━━━━━━━━━━━━━━━━━━━━━━━━━━╇━━━━━━━━━━━━━━━━━━━━━━━━╇━━━━━━━━━━━━━━━┩\n",
              "│ inception_resnet_v2             │ (<span style=\"color: #00d7ff; text-decoration-color: #00d7ff\">None</span>, <span style=\"color: #00af00; text-decoration-color: #00af00\">5</span>, <span style=\"color: #00af00; text-decoration-color: #00af00\">5</span>, <span style=\"color: #00af00; text-decoration-color: #00af00\">1536</span>)     │    <span style=\"color: #00af00; text-decoration-color: #00af00\">54,336,736</span> │\n",
              "│ (<span style=\"color: #0087ff; text-decoration-color: #0087ff\">Functional</span>)                    │                        │               │\n",
              "├─────────────────────────────────┼────────────────────────┼───────────────┤\n",
              "│ global_average_pooling2d        │ (<span style=\"color: #00d7ff; text-decoration-color: #00d7ff\">None</span>, <span style=\"color: #00af00; text-decoration-color: #00af00\">1536</span>)           │             <span style=\"color: #00af00; text-decoration-color: #00af00\">0</span> │\n",
              "│ (<span style=\"color: #0087ff; text-decoration-color: #0087ff\">GlobalAveragePooling2D</span>)        │                        │               │\n",
              "├─────────────────────────────────┼────────────────────────┼───────────────┤\n",
              "│ dense (<span style=\"color: #0087ff; text-decoration-color: #0087ff\">Dense</span>)                   │ (<span style=\"color: #00d7ff; text-decoration-color: #00d7ff\">None</span>, <span style=\"color: #00af00; text-decoration-color: #00af00\">32</span>)             │        <span style=\"color: #00af00; text-decoration-color: #00af00\">49,184</span> │\n",
              "├─────────────────────────────────┼────────────────────────┼───────────────┤\n",
              "│ dropout (<span style=\"color: #0087ff; text-decoration-color: #0087ff\">Dropout</span>)               │ (<span style=\"color: #00d7ff; text-decoration-color: #00d7ff\">None</span>, <span style=\"color: #00af00; text-decoration-color: #00af00\">32</span>)             │             <span style=\"color: #00af00; text-decoration-color: #00af00\">0</span> │\n",
              "├─────────────────────────────────┼────────────────────────┼───────────────┤\n",
              "│ dense_1 (<span style=\"color: #0087ff; text-decoration-color: #0087ff\">Dense</span>)                 │ (<span style=\"color: #00d7ff; text-decoration-color: #00d7ff\">None</span>, <span style=\"color: #00af00; text-decoration-color: #00af00\">16</span>)             │           <span style=\"color: #00af00; text-decoration-color: #00af00\">528</span> │\n",
              "├─────────────────────────────────┼────────────────────────┼───────────────┤\n",
              "│ dense_2 (<span style=\"color: #0087ff; text-decoration-color: #0087ff\">Dense</span>)                 │ (<span style=\"color: #00d7ff; text-decoration-color: #00d7ff\">None</span>, <span style=\"color: #00af00; text-decoration-color: #00af00\">7</span>)              │           <span style=\"color: #00af00; text-decoration-color: #00af00\">119</span> │\n",
              "└─────────────────────────────────┴────────────────────────┴───────────────┘\n",
              "</pre>\n"
            ],
            "text/plain": [
              "┏━━━━━━━━━━━━━━━━━━━━━━━━━━━━━━━━━┳━━━━━━━━━━━━━━━━━━━━━━━━┳━━━━━━━━━━━━━━━┓\n",
              "┃\u001b[1m \u001b[0m\u001b[1mLayer (type)                   \u001b[0m\u001b[1m \u001b[0m┃\u001b[1m \u001b[0m\u001b[1mOutput Shape          \u001b[0m\u001b[1m \u001b[0m┃\u001b[1m \u001b[0m\u001b[1m      Param #\u001b[0m\u001b[1m \u001b[0m┃\n",
              "┡━━━━━━━━━━━━━━━━━━━━━━━━━━━━━━━━━╇━━━━━━━━━━━━━━━━━━━━━━━━╇━━━━━━━━━━━━━━━┩\n",
              "│ inception_resnet_v2             │ (\u001b[38;5;45mNone\u001b[0m, \u001b[38;5;34m5\u001b[0m, \u001b[38;5;34m5\u001b[0m, \u001b[38;5;34m1536\u001b[0m)     │    \u001b[38;5;34m54,336,736\u001b[0m │\n",
              "│ (\u001b[38;5;33mFunctional\u001b[0m)                    │                        │               │\n",
              "├─────────────────────────────────┼────────────────────────┼───────────────┤\n",
              "│ global_average_pooling2d        │ (\u001b[38;5;45mNone\u001b[0m, \u001b[38;5;34m1536\u001b[0m)           │             \u001b[38;5;34m0\u001b[0m │\n",
              "│ (\u001b[38;5;33mGlobalAveragePooling2D\u001b[0m)        │                        │               │\n",
              "├─────────────────────────────────┼────────────────────────┼───────────────┤\n",
              "│ dense (\u001b[38;5;33mDense\u001b[0m)                   │ (\u001b[38;5;45mNone\u001b[0m, \u001b[38;5;34m32\u001b[0m)             │        \u001b[38;5;34m49,184\u001b[0m │\n",
              "├─────────────────────────────────┼────────────────────────┼───────────────┤\n",
              "│ dropout (\u001b[38;5;33mDropout\u001b[0m)               │ (\u001b[38;5;45mNone\u001b[0m, \u001b[38;5;34m32\u001b[0m)             │             \u001b[38;5;34m0\u001b[0m │\n",
              "├─────────────────────────────────┼────────────────────────┼───────────────┤\n",
              "│ dense_1 (\u001b[38;5;33mDense\u001b[0m)                 │ (\u001b[38;5;45mNone\u001b[0m, \u001b[38;5;34m16\u001b[0m)             │           \u001b[38;5;34m528\u001b[0m │\n",
              "├─────────────────────────────────┼────────────────────────┼───────────────┤\n",
              "│ dense_2 (\u001b[38;5;33mDense\u001b[0m)                 │ (\u001b[38;5;45mNone\u001b[0m, \u001b[38;5;34m7\u001b[0m)              │           \u001b[38;5;34m119\u001b[0m │\n",
              "└─────────────────────────────────┴────────────────────────┴───────────────┘\n"
            ]
          },
          "metadata": {},
          "output_type": "display_data"
        },
        {
          "data": {
            "text/html": [
              "<pre style=\"white-space:pre;overflow-x:auto;line-height:normal;font-family:Menlo,'DejaVu Sans Mono',consolas,'Courier New',monospace\"><span style=\"font-weight: bold\"> Total params: </span><span style=\"color: #00af00; text-decoration-color: #00af00\">54,386,567</span> (207.47 MB)\n",
              "</pre>\n"
            ],
            "text/plain": [
              "\u001b[1m Total params: \u001b[0m\u001b[38;5;34m54,386,567\u001b[0m (207.47 MB)\n"
            ]
          },
          "metadata": {},
          "output_type": "display_data"
        },
        {
          "data": {
            "text/html": [
              "<pre style=\"white-space:pre;overflow-x:auto;line-height:normal;font-family:Menlo,'DejaVu Sans Mono',consolas,'Courier New',monospace\"><span style=\"font-weight: bold\"> Trainable params: </span><span style=\"color: #00af00; text-decoration-color: #00af00\">49,831</span> (194.65 KB)\n",
              "</pre>\n"
            ],
            "text/plain": [
              "\u001b[1m Trainable params: \u001b[0m\u001b[38;5;34m49,831\u001b[0m (194.65 KB)\n"
            ]
          },
          "metadata": {},
          "output_type": "display_data"
        },
        {
          "data": {
            "text/html": [
              "<pre style=\"white-space:pre;overflow-x:auto;line-height:normal;font-family:Menlo,'DejaVu Sans Mono',consolas,'Courier New',monospace\"><span style=\"font-weight: bold\"> Non-trainable params: </span><span style=\"color: #00af00; text-decoration-color: #00af00\">54,336,736</span> (207.28 MB)\n",
              "</pre>\n"
            ],
            "text/plain": [
              "\u001b[1m Non-trainable params: \u001b[0m\u001b[38;5;34m54,336,736\u001b[0m (207.28 MB)\n"
            ]
          },
          "metadata": {},
          "output_type": "display_data"
        }
      ],
      "source": [
        "num_classes = y_train.shape[1]\n",
        "\n",
        "# Cargar la red InceptionResNetV2 preentrenada sin la parte superior (top)\n",
        "base_model = InceptionResNetV2(\n",
        "    input_shape=(224, 224, 3),\n",
        "    weights='imagenet',\n",
        "    include_top=False)\n",
        "\n",
        "# Congelar las capas del modelo base\n",
        "for layer in base_model.layers:\n",
        "    layer.trainable = False\n",
        "\n",
        "transfer_learning_model = Sequential(\n",
        "    [\n",
        "        base_model,\n",
        "        GlobalAveragePooling2D(),  # Global Average Pooling\n",
        "        Dense(32, activation='relu'),  # Capa densa\n",
        "        Dropout(0.2),  # Capa de dropout\n",
        "        Dense(16, activation='relu'),  # Capa densa\n",
        "        Dense(num_classes, activation='softmax') # Capa de salida\n",
        "    ]\n",
        ")\n",
        "\n",
        "# Compilar el modelo\n",
        "transfer_learning_model.compile(optimizer='adam', loss='categorical_crossentropy', metrics=['accuracy'])\n",
        "\n",
        "# Mostramos el resumen del modelo\n",
        "transfer_learning_model.summary()"
      ]
    },
    {
      "cell_type": "markdown",
      "metadata": {
        "id": "iFf6RiGiBVxV"
      },
      "source": [
        "Se compila el modelo definiendo el optimizador, la función de pérdida y la métrica de evaluación. Utilizamos el optimizador **adam** y la función de pérdida **categorical_crossentropy** adecuada para clasificación multiclase."
      ]
    },
    {
      "cell_type": "markdown",
      "metadata": {
        "id": "-Vu0j-5nF34g"
      },
      "source": [
        "**Callbacks**"
      ]
    },
    {
      "cell_type": "code",
      "execution_count": 64,
      "metadata": {
        "id": "tyGF-db_F2r8"
      },
      "outputs": [],
      "source": [
        "# Model Checkpoint: Guarda el mejor modelo durante el entrenamiento.\n",
        "model_checkpoint = ModelCheckpoint(MODELS_DIR / 'best_model.h5', save_best_only=True, monitor='val_loss', mode='min')\n",
        "\n",
        "# EarlyStopping: Detiene el entrenamiento cuando una métrica monitoreada ha dejado de mejorar.\n",
        "early_stopping = EarlyStopping(monitor='val_loss', patience=3, verbose=1, mode='min')\n",
        "\n",
        "# ReduceLROnPlateau: Reduce la tasa de aprendizaje cuando una métrica ha dejado de mejorar.\n",
        "reduce_lr = ReduceLROnPlateau(monitor='val_loss', factor=0.1, patience=5, verbose=1, mode='min')\n",
        "\n",
        "# Lista de callbacks\n",
        "callbacks = [model_checkpoint, early_stopping, reduce_lr]"
      ]
    },
    {
      "cell_type": "code",
      "execution_count": 65,
      "metadata": {
        "id": "6wZSB-9gFrCI"
      },
      "outputs": [],
      "source": [
        "# Callback extra\n",
        "model_checkpoint_transfer_learning = ModelCheckpoint(MODELS_DIR / 'best_model_tl.h5', save_best_only=True, monitor='val_loss', mode='min')\n",
        "\n",
        "callbacks_transfer_learning = [model_checkpoint_transfer_learning, early_stopping, reduce_lr]"
      ]
    },
    {
      "cell_type": "markdown",
      "metadata": {
        "id": "EpfTEk69J13k"
      },
      "source": [
        "**Entrenamos el modelo**"
      ]
    },
    {
      "cell_type": "code",
      "execution_count": 58,
      "metadata": {
        "colab": {
          "base_uri": "https://localhost:8080/"
        },
        "id": "0cFEdVo8AcHy",
        "outputId": "8a0f5ff3-8704-44fa-de31-c7443c7a412b"
      },
      "outputs": [
        {
          "name": "stderr",
          "output_type": "stream",
          "text": [
            "c:\\Users\\maril\\AppData\\Local\\Programs\\Python\\Python313\\Lib\\site-packages\\keras\\src\\trainers\\data_adapters\\py_dataset_adapter.py:121: UserWarning: Your `PyDataset` class should call `super().__init__(**kwargs)` in its constructor. `**kwargs` can include `workers`, `use_multiprocessing`, `max_queue_size`. Do not pass these arguments to `fit()`, as they will be ignored.\n",
            "  self._warn_if_super_not_called()\n"
          ]
        },
        {
          "name": "stdout",
          "output_type": "stream",
          "text": [
            "Epoch 1/10\n",
            "\u001b[1m16/16\u001b[0m \u001b[32m━━━━━━━━━━━━━━━━━━━━\u001b[0m\u001b[37m\u001b[0m \u001b[1m0s\u001b[0m 4s/step - accuracy: 0.2217 - loss: 1.9769"
          ]
        },
        {
          "name": "stderr",
          "output_type": "stream",
          "text": [
            "WARNING:absl:You are saving your model as an HDF5 file via `model.save()` or `keras.saving.save_model(model)`. This file format is considered legacy. We recommend using instead the native Keras format, e.g. `model.save('my_model.keras')` or `keras.saving.save_model(model, 'my_model.keras')`. \n"
          ]
        },
        {
          "name": "stdout",
          "output_type": "stream",
          "text": [
            "\u001b[1m16/16\u001b[0m \u001b[32m━━━━━━━━━━━━━━━━━━━━\u001b[0m\u001b[37m\u001b[0m \u001b[1m115s\u001b[0m 6s/step - accuracy: 0.2070 - loss: 1.9509 - val_accuracy: 0.2308 - val_loss: 1.8915 - learning_rate: 0.0010\n",
            "Epoch 2/10\n",
            "\u001b[1m16/16\u001b[0m \u001b[32m━━━━━━━━━━━━━━━━━━━━\u001b[0m\u001b[37m\u001b[0m \u001b[1m0s\u001b[0m 2s/step - accuracy: 0.1969 - loss: 1.9123"
          ]
        },
        {
          "name": "stderr",
          "output_type": "stream",
          "text": [
            "WARNING:absl:You are saving your model as an HDF5 file via `model.save()` or `keras.saving.save_model(model)`. This file format is considered legacy. We recommend using instead the native Keras format, e.g. `model.save('my_model.keras')` or `keras.saving.save_model(model, 'my_model.keras')`. \n"
          ]
        },
        {
          "name": "stdout",
          "output_type": "stream",
          "text": [
            "\u001b[1m16/16\u001b[0m \u001b[32m━━━━━━━━━━━━━━━━━━━━\u001b[0m\u001b[37m\u001b[0m \u001b[1m45s\u001b[0m 3s/step - accuracy: 0.2133 - loss: 1.8866 - val_accuracy: 0.2596 - val_loss: 1.8663 - learning_rate: 0.0010\n",
            "Epoch 3/10\n",
            "\u001b[1m16/16\u001b[0m \u001b[32m━━━━━━━━━━━━━━━━━━━━\u001b[0m\u001b[37m\u001b[0m \u001b[1m0s\u001b[0m 2s/step - accuracy: 0.2650 - loss: 1.8089"
          ]
        },
        {
          "name": "stderr",
          "output_type": "stream",
          "text": [
            "WARNING:absl:You are saving your model as an HDF5 file via `model.save()` or `keras.saving.save_model(model)`. This file format is considered legacy. We recommend using instead the native Keras format, e.g. `model.save('my_model.keras')` or `keras.saving.save_model(model, 'my_model.keras')`. \n"
          ]
        },
        {
          "name": "stdout",
          "output_type": "stream",
          "text": [
            "\u001b[1m16/16\u001b[0m \u001b[32m━━━━━━━━━━━━━━━━━━━━\u001b[0m\u001b[37m\u001b[0m \u001b[1m48s\u001b[0m 3s/step - accuracy: 0.2629 - loss: 1.8187 - val_accuracy: 0.3462 - val_loss: 1.7463 - learning_rate: 0.0010\n",
            "Epoch 4/10\n",
            "\u001b[1m16/16\u001b[0m \u001b[32m━━━━━━━━━━━━━━━━━━━━\u001b[0m\u001b[37m\u001b[0m \u001b[1m0s\u001b[0m 2s/step - accuracy: 0.2389 - loss: 1.8192"
          ]
        },
        {
          "name": "stderr",
          "output_type": "stream",
          "text": [
            "WARNING:absl:You are saving your model as an HDF5 file via `model.save()` or `keras.saving.save_model(model)`. This file format is considered legacy. We recommend using instead the native Keras format, e.g. `model.save('my_model.keras')` or `keras.saving.save_model(model, 'my_model.keras')`. \n"
          ]
        },
        {
          "name": "stdout",
          "output_type": "stream",
          "text": [
            "\u001b[1m16/16\u001b[0m \u001b[32m━━━━━━━━━━━━━━━━━━━━\u001b[0m\u001b[37m\u001b[0m \u001b[1m47s\u001b[0m 3s/step - accuracy: 0.2795 - loss: 1.7984 - val_accuracy: 0.3558 - val_loss: 1.7132 - learning_rate: 0.0010\n",
            "Epoch 5/10\n",
            "\u001b[1m16/16\u001b[0m \u001b[32m━━━━━━━━━━━━━━━━━━━━\u001b[0m\u001b[37m\u001b[0m \u001b[1m39s\u001b[0m 2s/step - accuracy: 0.2712 - loss: 1.7958 - val_accuracy: 0.3558 - val_loss: 1.7362 - learning_rate: 0.0010\n",
            "Epoch 6/10\n",
            "\u001b[1m16/16\u001b[0m \u001b[32m━━━━━━━━━━━━━━━━━━━━\u001b[0m\u001b[37m\u001b[0m \u001b[1m38s\u001b[0m 2s/step - accuracy: 0.2981 - loss: 1.7421 - val_accuracy: 0.2788 - val_loss: 1.7229 - learning_rate: 0.0010\n",
            "Epoch 7/10\n",
            "\u001b[1m16/16\u001b[0m \u001b[32m━━━━━━━━━━━━━━━━━━━━\u001b[0m\u001b[37m\u001b[0m \u001b[1m0s\u001b[0m 2s/step - accuracy: 0.2931 - loss: 1.7276"
          ]
        },
        {
          "name": "stderr",
          "output_type": "stream",
          "text": [
            "WARNING:absl:You are saving your model as an HDF5 file via `model.save()` or `keras.saving.save_model(model)`. This file format is considered legacy. We recommend using instead the native Keras format, e.g. `model.save('my_model.keras')` or `keras.saving.save_model(model, 'my_model.keras')`. \n"
          ]
        },
        {
          "name": "stdout",
          "output_type": "stream",
          "text": [
            "\u001b[1m16/16\u001b[0m \u001b[32m━━━━━━━━━━━━━━━━━━━━\u001b[0m\u001b[37m\u001b[0m \u001b[1m40s\u001b[0m 2s/step - accuracy: 0.2919 - loss: 1.7355 - val_accuracy: 0.3750 - val_loss: 1.6717 - learning_rate: 0.0010\n",
            "Epoch 8/10\n",
            "\u001b[1m16/16\u001b[0m \u001b[32m━━━━━━━━━━━━━━━━━━━━\u001b[0m\u001b[37m\u001b[0m \u001b[1m0s\u001b[0m 2s/step - accuracy: 0.3248 - loss: 1.6895"
          ]
        },
        {
          "name": "stderr",
          "output_type": "stream",
          "text": [
            "WARNING:absl:You are saving your model as an HDF5 file via `model.save()` or `keras.saving.save_model(model)`. This file format is considered legacy. We recommend using instead the native Keras format, e.g. `model.save('my_model.keras')` or `keras.saving.save_model(model, 'my_model.keras')`. \n"
          ]
        },
        {
          "name": "stdout",
          "output_type": "stream",
          "text": [
            "\u001b[1m16/16\u001b[0m \u001b[32m━━━━━━━━━━━━━━━━━━━━\u001b[0m\u001b[37m\u001b[0m \u001b[1m39s\u001b[0m 3s/step - accuracy: 0.3023 - loss: 1.7212 - val_accuracy: 0.3462 - val_loss: 1.6475 - learning_rate: 0.0010\n",
            "Epoch 9/10\n",
            "\u001b[1m16/16\u001b[0m \u001b[32m━━━━━━━━━━━━━━━━━━━━\u001b[0m\u001b[37m\u001b[0m \u001b[1m0s\u001b[0m 2s/step - accuracy: 0.3362 - loss: 1.6928"
          ]
        },
        {
          "name": "stderr",
          "output_type": "stream",
          "text": [
            "WARNING:absl:You are saving your model as an HDF5 file via `model.save()` or `keras.saving.save_model(model)`. This file format is considered legacy. We recommend using instead the native Keras format, e.g. `model.save('my_model.keras')` or `keras.saving.save_model(model, 'my_model.keras')`. \n"
          ]
        },
        {
          "name": "stdout",
          "output_type": "stream",
          "text": [
            "\u001b[1m16/16\u001b[0m \u001b[32m━━━━━━━━━━━━━━━━━━━━\u001b[0m\u001b[37m\u001b[0m \u001b[1m40s\u001b[0m 2s/step - accuracy: 0.3375 - loss: 1.6843 - val_accuracy: 0.4231 - val_loss: 1.6054 - learning_rate: 0.0010\n",
            "Epoch 10/10\n",
            "\u001b[1m16/16\u001b[0m \u001b[32m━━━━━━━━━━━━━━━━━━━━\u001b[0m\u001b[37m\u001b[0m \u001b[1m38s\u001b[0m 2s/step - accuracy: 0.3747 - loss: 1.6172 - val_accuracy: 0.4038 - val_loss: 1.6458 - learning_rate: 0.0010\n"
          ]
        }
      ],
      "source": [
        "# Entrenar el modelo\n",
        "with tf.device('/device:GPU:0'):\n",
        "    history_transfer_learning = transfer_learning_model.fit(\n",
        "        train_gen,\n",
        "        validation_data=val_gen,\n",
        "        epochs=10,\n",
        "        callbacks=callbacks_transfer_learning\n",
        "    )"
      ]
    },
    {
      "cell_type": "markdown",
      "metadata": {
        "id": "75cxOsGvdfy-"
      },
      "source": [
        "A pesar de solo entrenarlo con 10 épocas tiene resultados decentes en términos de cantidad de imágenes, pues su entrenamiento demoró 20 minutos para más de 10000 imagenes"
      ]
    },
    {
      "cell_type": "markdown",
      "metadata": {
        "id": "y29TPhuRFb7k"
      },
      "source": [
        "Ahora revisemos el **desempeño** de nuestro modelo:"
      ]
    },
    {
      "cell_type": "code",
      "execution_count": 60,
      "metadata": {
        "colab": {
          "base_uri": "https://localhost:8080/",
          "height": 391
        },
        "id": "lerWw-1qFh8n",
        "outputId": "b2471699-0040-4c8f-e70e-f11626d28363"
      },
      "outputs": [
        {
          "data": {
            "image/png": "[encoded data removed]",
            "text/plain": [
              "<Figure size 1200x400 with 2 Axes>"
            ]
          },
          "metadata": {},
          "output_type": "display_data"
        }
      ],
      "source": [
        "# Visualización de la progresión del entrenamiento\n",
        "\n",
        "acc = history_transfer_learning.history['accuracy']\n",
        "val_acc = history_transfer_learning.history['val_accuracy']\n",
        "loss = history_transfer_learning.history['loss']\n",
        "val_loss = history_transfer_learning.history['val_loss']\n",
        "\n",
        "epochs_range = range(len(acc))\n",
        "\n",
        "plt.figure(figsize=(12, 4))\n",
        "plt.subplot(1, 2, 1)\n",
        "plt.plot(epochs_range, acc, label='Training Accuracy')\n",
        "plt.plot(epochs_range, val_acc, label='Validation Accuracy')\n",
        "plt.legend(loc='lower right')\n",
        "plt.title('Training and Validation Accuracy')\n",
        "\n",
        "plt.subplot(1, 2, 2)\n",
        "plt.plot(epochs_range, loss, label='Training Loss')\n",
        "plt.plot(epochs_range, val_loss, label='Validation Loss')\n",
        "plt.legend(loc='upper right')\n",
        "plt.title('Training and Validation Loss')\n",
        "\n",
        "plt.show()"
      ]
    },
    {
      "cell_type": "markdown",
      "metadata": {
        "id": "JPBu445qtaEg"
      },
      "source": [
        "Ahora si **evaluemos** el modelo"
      ]
    },
    {
      "cell_type": "code",
      "execution_count": 61,
      "metadata": {
        "colab": {
          "base_uri": "https://localhost:8080/"
        },
        "id": "x-XCNPqTXm1j",
        "outputId": "7869915e-4538-4750-dda5-700b8d549e66"
      },
      "outputs": [
        {
          "name": "stderr",
          "output_type": "stream",
          "text": [
            "c:\\Users\\maril\\AppData\\Local\\Programs\\Python\\Python313\\Lib\\site-packages\\keras\\src\\trainers\\data_adapters\\py_dataset_adapter.py:121: UserWarning: Your `PyDataset` class should call `super().__init__(**kwargs)` in its constructor. `**kwargs` can include `workers`, `use_multiprocessing`, `max_queue_size`. Do not pass these arguments to `fit()`, as they will be ignored.\n",
            "  self._warn_if_super_not_called()\n"
          ]
        },
        {
          "name": "stdout",
          "output_type": "stream",
          "text": [
            "\u001b[1m4/4\u001b[0m \u001b[32m━━━━━━━━━━━━━━━━━━━━\u001b[0m\u001b[37m\u001b[0m \u001b[1m6s\u001b[0m 1s/step - accuracy: 0.3942 - loss: 1.6283\n",
            "\n",
            "Test Accuracy: 0.39423078298568726\n",
            "Test Loss:     1.6283208131790161\n"
          ]
        }
      ],
      "source": [
        "# Evaluamos el modelo con nuestros datos de test\n",
        "test_loss, test_acc = transfer_learning_model.evaluate(test_gen)\n",
        "\n",
        "print('\\nTest Accuracy:', test_acc)\n",
        "print('Test Loss:    ', test_loss)"
      ]
    },
    {
      "cell_type": "code",
      "execution_count": 63,
      "metadata": {
        "colab": {
          "base_uri": "https://localhost:8080/",
          "height": 1000
        },
        "id": "2D3aQSALXA_i",
        "outputId": "a9932f8f-5aae-49ab-a947-12e7aeecce8e"
      },
      "outputs": [
        {
          "name": "stdout",
          "output_type": "stream",
          "text": [
            "\u001b[1m4/4\u001b[0m \u001b[32m━━━━━━━━━━━━━━━━━━━━\u001b[0m\u001b[37m\u001b[0m \u001b[1m7s\u001b[0m 2s/step\n"
          ]
        },
        {
          "data": {
            "image/png": "[encoded data removed]",
            "text/plain": [
              "<Figure size 1000x800 with 2 Axes>"
            ]
          },
          "metadata": {},
          "output_type": "display_data"
        },
        {
          "name": "stdout",
          "output_type": "stream",
          "text": [
            "              precision    recall  f1-score   support\n",
            "\n",
            "      aca_bd       0.36      0.86      0.51        14\n",
            "      aca_md       0.33      0.07      0.12        14\n",
            "      aca_pd       0.00      0.00      0.00        13\n",
            "         nor       0.31      0.46      0.37        24\n",
            "      scc_bd       0.43      0.62      0.51        16\n",
            "      scc_md       0.00      0.00      0.00         6\n",
            "      scc_pd       0.70      0.41      0.52        17\n",
            "\n",
            "    accuracy                           0.39       104\n",
            "   macro avg       0.31      0.35      0.29       104\n",
            "weighted avg       0.35      0.39      0.33       104\n",
            "\n"
          ]
        },
        {
          "name": "stderr",
          "output_type": "stream",
          "text": [
            "c:\\Users\\maril\\AppData\\Local\\Programs\\Python\\Python313\\Lib\\site-packages\\sklearn\\metrics\\_classification.py:1731: UndefinedMetricWarning: Precision is ill-defined and being set to 0.0 in labels with no predicted samples. Use `zero_division` parameter to control this behavior.\n",
            "  _warn_prf(average, modifier, f\"{metric.capitalize()} is\", result.shape[0])\n",
            "c:\\Users\\maril\\AppData\\Local\\Programs\\Python\\Python313\\Lib\\site-packages\\sklearn\\metrics\\_classification.py:1731: UndefinedMetricWarning: Precision is ill-defined and being set to 0.0 in labels with no predicted samples. Use `zero_division` parameter to control this behavior.\n",
            "  _warn_prf(average, modifier, f\"{metric.capitalize()} is\", result.shape[0])\n",
            "c:\\Users\\maril\\AppData\\Local\\Programs\\Python\\Python313\\Lib\\site-packages\\sklearn\\metrics\\_classification.py:1731: UndefinedMetricWarning: Precision is ill-defined and being set to 0.0 in labels with no predicted samples. Use `zero_division` parameter to control this behavior.\n",
            "  _warn_prf(average, modifier, f\"{metric.capitalize()} is\", result.shape[0])\n"
          ]
        }
      ],
      "source": [
        "# Realizar predicciones\n",
        "predicciones_tl = transfer_learning_model.predict(test_gen, verbose=1)\n",
        "\n",
        "# Convertir las predicciones en etiquetas\n",
        "y_pred_tl = np.argmax(predicciones_tl, axis=1)\n",
        "y_test_r = np.argmax(y_test, axis=1)\n",
        "\n",
        "cm = confusion_matrix(y_test_r, y_pred_tl)\n",
        "plt.figure(figsize=(10, 8))\n",
        "sns.heatmap(cm, annot=True, fmt='d', cmap=plt.cm.Blues)\n",
        "plt.title('Matriz de Confusión - Mejor Modelo')\n",
        "plt.ylabel('Etiquetas Reales')\n",
        "plt.xlabel('Etiquetas Predichas')\n",
        "plt.show()\n",
        "\n",
        "print(classification_report(y_test_r, y_pred_tl, target_names=CLASS_NAMES))"
      ]
    }
  ],
  "metadata": {
    "accelerator": "GPU",
    "colab": {
      "authorship_tag": "ABX9TyP++uUSGfdJCaiwHY5xP7GO",
      "gpuType": "T4",
      "include_colab_link": true,
      "provenance": []
    },
    "kernelspec": {
      "display_name": "Python 3",
      "language": "python",
      "name": "python3"
    },
    "language_info": {
      "codemirror_mode": {
        "name": "ipython",
        "version": 3
      },
      "file_extension": ".py",
      "mimetype": "text/x-python",
      "name": "python",
      "nbconvert_exporter": "python",
      "pygments_lexer": "ipython3",
      "version": "3.13.1"
    }
  },
  "nbformat": 4,
  "nbformat_minor": 0
}
